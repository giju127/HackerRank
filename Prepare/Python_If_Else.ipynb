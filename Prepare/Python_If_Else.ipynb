{
  "nbformat": 4,
  "nbformat_minor": 0,
  "metadata": {
    "colab": {
      "name": "Python If-Else.ipynb",
      "provenance": []
    },
    "kernelspec": {
      "name": "python3",
      "display_name": "Python 3"
    },
    "language_info": {
      "name": "python"
    }
  },
  "cells": [
    {
      "cell_type": "markdown",
      "source": [
        "# Python If-Else\n",
        "\n",
        "**Task**\n",
        "\n",
        "Given an integer, $n$, perform the following conditional actions:\n",
        "\n",
        "* If $n$ is odd, print `Weird`\n",
        "* If $n$ is even and in the inclusive range of $2$ to $5$, print `Not Weired`\n",
        "* If $n$ is even and in the inclusive range $6$ to $20$, print `Weired`\n",
        "* If $n$ is even and greater than $20$, print `Not Weired`\n",
        "\n",
        "**Input Format**\n",
        "\n",
        "A single line containing a positive integer, $n$.\n",
        "\n",
        "**Constraints**\n",
        "\n",
        "$1 \\leq n \\leq 100$\n",
        "\n",
        "**Output Format**\n",
        "\n",
        "Print `Weird` if the number is weird. Otherwise, print `Not Weird`.\n",
        "\n",
        "**Sample Input 0**\n",
        "\n",
        "```\n",
        "3\n",
        "```\n",
        "\n",
        "**Sample Output 0**\n",
        "\n",
        "```\n",
        "Weired\n",
        "```\n",
        "\n",
        "\n",
        "**Explanation 0**\n",
        "\n",
        "$n = 3$\n",
        "\n",
        "$n$ is odd and odd numbers are weird, so print `Weird`.\n",
        "\n",
        "**Sample Input 1**\n",
        "```\n",
        "24\n",
        "```\n",
        "\n",
        "**Sample Outout 1**\n",
        "```\n",
        "Not Weird\n",
        "```\n",
        "\n",
        "**Explanation 1**\n",
        "\n",
        "$n = 24$\n",
        "\n",
        "$n > 20$ and $n$ is even, so it is not weird.\n"
      ],
      "metadata": {
        "id": "Nnqy-zUoI-1O"
      }
    },
    {
      "cell_type": "code",
      "execution_count": null,
      "metadata": {
        "id": "1NrDUA20I9AS"
      },
      "outputs": [],
      "source": [
        "#!/bin/python3\n",
        "\n",
        "import math\n",
        "import os\n",
        "import random\n",
        "import re\n",
        "import sys\n",
        "\n",
        "\n",
        "\n",
        "if __name__ == '__main__':\n",
        "    n = int(input().strip())\n",
        "    \n",
        "    if (n % 2 == 0) & (n > 20):\n",
        "        print('Not Weird')\n",
        "    elif (n % 2 == 0) & (6 <= n <= 20):\n",
        "        print('Weird')\n",
        "    elif (n % 2 == 0) & (2 <= n <= 5):\n",
        "        print('Not Weird')\n",
        "    else:\n",
        "        print('Weird')"
      ]
    }
  ]
}