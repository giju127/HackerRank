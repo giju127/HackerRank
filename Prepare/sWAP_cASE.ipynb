{
  "nbformat": 4,
  "nbformat_minor": 0,
  "metadata": {
    "colab": {
      "name": "sWAP cASE.ipynb",
      "provenance": []
    },
    "kernelspec": {
      "name": "python3",
      "display_name": "Python 3"
    },
    "language_info": {
      "name": "python"
    }
  },
  "cells": [
    {
      "cell_type": "markdown",
      "source": [
        "# sWAP cASE\n",
        "\n",
        "You are given a string and your task is to swap cases. In other words, convert all lowercase letters to uppercase letters and vice versa.\n",
        "\n",
        "**For Example:**\n",
        "\n",
        "```\n",
        "Www.HackerRank.com > wWW.hACKERrANK.COM\n",
        "Pythonist 2 > pYTHONIST 2\n",
        "```\n",
        "\n",
        "**Function Description**\n",
        "\n",
        "Complete the swap_case function in the editor below.\n",
        "\n",
        "swap_case has the following parameters\n",
        "* string s: the string to modify\n",
        "\n",
        "**Returns**\n",
        "* string: the modified string\n",
        "\n",
        "**Input Format**\n",
        "\n",
        "A single line containing a string $s$.\n",
        "\n",
        "**Constraints**\n",
        "\n",
        "$0 < len(s) \\leq 1000$\n",
        "\n",
        "**Sample Input 0**\n",
        "\n",
        "```\n",
        "HackerRank.com presents \"Pythonist 2\".\n",
        "```\n",
        "\n",
        "**Sample Output 0**\n",
        "\n",
        "```\n",
        "hACKERrANK.COM PRESENTS \"pYTHONIST 2\".\n",
        "```"
      ],
      "metadata": {
        "id": "Y_FLkRlujts9"
      }
    },
    {
      "cell_type": "code",
      "execution_count": null,
      "metadata": {
        "id": "wfwui8xajsfA"
      },
      "outputs": [],
      "source": [
        "def swap_case(s):\n",
        "    \n",
        "    swap = ''\n",
        "    \n",
        "    for i in s:\n",
        "        if i.isupper():\n",
        "            i = i.lower()\n",
        "            swap += i\n",
        "        elif i.islower():\n",
        "            i = i.upper()\n",
        "            swap += i\n",
        "        else:\n",
        "            swap += i\n",
        "    \n",
        "    return swap\n",
        "\n",
        "if __name__ == '__main__':\n",
        "    s = input()\n",
        "    result = swap_case(s)\n",
        "    print(result)"
      ]
    }
  ]
}