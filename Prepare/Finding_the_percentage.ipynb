{
  "nbformat": 4,
  "nbformat_minor": 0,
  "metadata": {
    "colab": {
      "name": "Finding the percentage.ipynb",
      "provenance": []
    },
    "kernelspec": {
      "name": "python3",
      "display_name": "Python 3"
    },
    "language_info": {
      "name": "python"
    }
  },
  "cells": [
    {
      "cell_type": "markdown",
      "source": [
        "# Finding the percentage\n",
        "\n",
        "The provided code stub will read in a dictionary containing key/value pairs of name:[marks] for a list of students. Print the average of the marks array for the student name provided, showing 2 places after the decimal.\n",
        "\n",
        "\n",
        "**Example**\n",
        "\n",
        "$marks \\ key:value \\ pairs \\ are$\n",
        "\n",
        "$'alpha':[20, 30, 40]$\n",
        "\n",
        "$'beta':[30, 50 ,70]$\n",
        "\n",
        "$query\\_name = \\ 'beta'$\n",
        "\n",
        "The **query_name** is 'beta'. beta's average score is $(30+50+70)/3 = 50.0$.\n",
        "\n",
        "**Input Format**\n",
        "\n",
        "The first line contains the integer $n$, the number of students' records. The next $n$ lines contain the names and marks obtained by a student, each value separated by a space. The final line contains **query_name**, the name of a student to query.\n",
        "\n",
        "**Constraints**\n",
        "\n",
        "* $2 \\leq n \\leq 10$\n",
        "* 0 \\leq marks[i] \\leq 100\n",
        "* lengths of marks arrays $= 3$\n",
        "\n",
        "**Output Format**\n",
        "\n",
        "Print one line: The average of the marks obtained by the particular student correct to 2 decimal places.\n",
        "\n",
        "**Sample Input 0**\n",
        "\n",
        "```\n",
        "3\n",
        "Krishna 67 68 69\n",
        "Arjun 70 98 63\n",
        "Malika 52 56 60\n",
        "Malika\n",
        "```\n",
        "\n",
        "\n",
        "**Sample Output 0**\n",
        "\n",
        "```\n",
        "56.00\n",
        "```\n",
        "\n",
        "**Explanation 0**\n",
        "\n",
        "Marks for Malika are ${52, 56, 60}$ whose average is $\\frac{5+56+60}{3} ⇒ 56$\n",
        "\n",
        "**Sample Input 1**\n",
        "\n",
        "```\n",
        "2\n",
        "Harsh 25 26.5 28\n",
        "Anurag 26 28 30\n",
        "Harsh\n",
        "```\n",
        "\n",
        "\n",
        "**Sample Output 1**\n",
        "\n",
        "```\n",
        "26.50\n",
        "\n",
        "```"
      ],
      "metadata": {
        "id": "Nnqy-zUoI-1O"
      }
    },
    {
      "cell_type": "code",
      "execution_count": 7,
      "metadata": {
        "id": "1NrDUA20I9AS",
        "colab": {
          "base_uri": "https://localhost:8080/"
        },
        "outputId": "d8482cb9-54c6-48e7-e26a-28b29cceace2"
      },
      "outputs": [
        {
          "output_type": "stream",
          "name": "stdout",
          "text": [
            "3\n",
            "Krishna 67 68 69\n",
            "Arjun 70 98 63\n",
            "Malika 52 56 60\n",
            "Malika\n",
            "56.00\n"
          ]
        }
      ],
      "source": [
        "n = int(input())\n",
        "student_marks = {}\n",
        "\n",
        "for _ in range(n):\n",
        "    name, *line = input().split()\n",
        "    scores = list(map(float, line))\n",
        "    student_marks[name] = scores\n",
        "query_name = input()\n",
        "\n",
        "score_list = student_marks[query_name]\n",
        "average = sum(score_list) / len(score_list)\n",
        "\n",
        "print('{:.2f}'.format(average))"
      ]
    }
  ]
}