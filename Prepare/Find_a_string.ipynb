{
  "nbformat": 4,
  "nbformat_minor": 0,
  "metadata": {
    "colab": {
      "name": "Find a string.ipynb",
      "provenance": []
    },
    "kernelspec": {
      "name": "python3",
      "display_name": "Python 3"
    },
    "language_info": {
      "name": "python"
    }
  },
  "cells": [
    {
      "cell_type": "markdown",
      "source": [
        "# Find a string\n",
        "\n",
        "In this challenge, the user enters a string and a substring. You have to print the number of times that the substring occurs in the given string. String traversal will take place from left to right, not from right to left. \n",
        "\n",
        "**NOTE:** String letters are case-sensitive.\n",
        "\n",
        "**Input Format**\n",
        "\n",
        "The first line of input contains the original string. The next line contains the substring.\n",
        "\n",
        "**Constraints**\n",
        "\n",
        "$$1 \\leq len(string) \\leq 200$$\n",
        "\n",
        "Each character in the string is an ascii character.\n",
        "\n",
        "**Output Format**\n",
        "\n",
        "Output the integer number indicating the total number of occurrences of the substring in the original string.\n",
        "\n",
        "**Sample Input**\n",
        "\n",
        "```\n",
        "ABCDCDC\n",
        "CDC\n",
        "```\n",
        "\n",
        "**Sample Output**\n",
        "\n",
        "```\n",
        "2\n",
        "```\n",
        "\n",
        "**Concept**\n",
        "\n",
        "Some string processing examples, such as these, might be useful.\n",
        "\n",
        "There are a couple of new concepts:\n",
        "\n",
        "In Python, the length of a string is found by the function `len(s)`, where $s$ is the string. \n",
        "\n",
        "To traverse through the length of a string, use a for loop:\n",
        "\n",
        "```\n",
        "for i in range(0, len(s)):\n",
        "  print (s[i])\n",
        "```\n",
        "\n",
        "A range function is used to loop over some length:\n",
        "\n",
        "```\n",
        "range(0, 5)\n",
        "```\n",
        "\n",
        "Here, the range loops over $0$ to $4$. $5$ is excluded."
      ],
      "metadata": {
        "id": "Y_FLkRlujts9"
      }
    },
    {
      "cell_type": "code",
      "execution_count": null,
      "metadata": {
        "id": "wfwui8xajsfA"
      },
      "outputs": [],
      "source": [
        "def count_substring(string, sub_string):\n",
        "    \n",
        "    count = 0\n",
        "    \n",
        "    for i in range(len(string)):\n",
        "        if string[i:].startswith(sub_string):\n",
        "            count += 1\n",
        "            \n",
        "    return count\n",
        "\n",
        "if __name__ == '__main__':\n",
        "    string = input().strip()\n",
        "    sub_string = input().strip()\n",
        "    \n",
        "    count = count_substring(string, sub_string)\n",
        "    print(count)"
      ]
    }
  ]
}