{
  "nbformat": 4,
  "nbformat_minor": 0,
  "metadata": {
    "colab": {
      "name": "Print Function.ipynb",
      "provenance": []
    },
    "kernelspec": {
      "name": "python3",
      "display_name": "Python 3"
    },
    "language_info": {
      "name": "python"
    }
  },
  "cells": [
    {
      "cell_type": "markdown",
      "source": [
        "# Print Function\n",
        "\n",
        "The included code stub will reade an integer, $n$, from STDIN.\n",
        "\n",
        "Without using any s tring methods, try to print the following:\n",
        "\n",
        "$123 \\cdots n$\n",
        "\n",
        "**Example**\n",
        "\n",
        "$n = 5$\n",
        "\n",
        "Print the string $12345$\n",
        "\n",
        "**Input Format**\n",
        "\n",
        "The first line contains an integer $n$\n",
        "\n",
        "**Constraints**\n",
        "\n",
        "$1 \\leq n \\leq 150$\n",
        "\n",
        "**Output Format**\n",
        "\n",
        "Print the list of integers from $1$ through $n$ a a string, without spaces.\n",
        "\n",
        "**Sample Input 0**\n",
        "\n",
        "```\n",
        "3\n",
        "```\n",
        "\n",
        "\n",
        "**Sample Output 0**\n",
        "\n",
        "```\n",
        "123\n",
        "```\n"
      ],
      "metadata": {
        "id": "Nnqy-zUoI-1O"
      }
    },
    {
      "cell_type": "code",
      "execution_count": null,
      "metadata": {
        "id": "1NrDUA20I9AS"
      },
      "outputs": [],
      "source": [
        "if __name__ == '__main__':\n",
        "    n = int(input())\n",
        "    \n",
        "    print(*range(1, n+1), sep='')"
      ]
    }
  ]
}