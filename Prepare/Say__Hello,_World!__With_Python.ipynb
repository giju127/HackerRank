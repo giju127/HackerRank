{
  "nbformat": 4,
  "nbformat_minor": 0,
  "metadata": {
    "colab": {
      "name": "Say \"Hello, World!\" With Python.ipynb",
      "provenance": []
    },
    "kernelspec": {
      "name": "python3",
      "display_name": "Python 3"
    },
    "language_info": {
      "name": "python"
    }
  },
  "cells": [
    {
      "cell_type": "markdown",
      "source": [
        "# Say \"Hello, World!\" With Python\n",
        "\n",
        "Here is a sample line of code that can be executed in Python:\n",
        "```\n",
        "print(\"Hello, World!\")\n",
        "```\n",
        "\n",
        "\n",
        "You can just as easily store a string as a variable and then print it to stdout:\n",
        "```\n",
        "my_string = \"Hello, World!\"\n",
        "print(my_string)\n",
        "```\n",
        "\n",
        "\n",
        "The above code will print `Hello, World!` on your screen.\n",
        "Try it yourself in the editor below!\n",
        "\n",
        "**Input Format**\n",
        "\n",
        "You do not need to read any input in this challenge.\n",
        "\n",
        "\n",
        "**Output Format**\n",
        "\n",
        "Print `Hello, World!` to stdout.\n",
        "\n",
        "\n",
        "**Sample Output **\n",
        "\n",
        "```\n",
        "Hello, World!\n",
        "```\n"
      ],
      "metadata": {
        "id": "Nnqy-zUoI-1O"
      }
    },
    {
      "cell_type": "code",
      "execution_count": null,
      "metadata": {
        "id": "1NrDUA20I9AS"
      },
      "outputs": [],
      "source": [
        "print(\"Hello, World!\")"
      ]
    }
  ]
}