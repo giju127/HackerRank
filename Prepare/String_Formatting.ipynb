{
  "nbformat": 4,
  "nbformat_minor": 0,
  "metadata": {
    "colab": {
      "name": "String Formatting.ipynb",
      "provenance": []
    },
    "kernelspec": {
      "name": "python3",
      "display_name": "Python 3"
    },
    "language_info": {
      "name": "python"
    }
  },
  "cells": [
    {
      "cell_type": "markdown",
      "source": [
        "# String Formatting\n",
        "\n",
        "Given an integer, $n$, print the following values for each integer $i$ from $1$ to $n$:\n",
        "\n",
        "1. Decimal\n",
        "2. Octal\n",
        "3. Hexadecimal (capitalized)\n",
        "4. Binary\n",
        "\n",
        "**Function Description**\n",
        "\n",
        "Complete the print_formatted function in the editor below.\n",
        "\n",
        "print_formatted has the following parameters:\n",
        "* int number: the maximum value to print\n",
        "\n",
        "**Prints**\n",
        "\n",
        "The four values must be printed on a single line in the order specified above for each $i$ from $1$ to $number$ and the values should be separated by a single space.\n",
        "\n",
        "**Input Format**\n",
        "\n",
        "A single integer denoting $n$.\n",
        "\n",
        "**Constraints**\n",
        "\n",
        "* 1 \\leq n \\leq 99\n",
        "\n",
        "**Sample Input**\n",
        "\n",
        "```\n",
        "17\n",
        "```\n",
        "\n",
        "**Sample Output**\n",
        "\n",
        "```\n",
        "    1     1     1     1\n",
        "    2     2     2    10\n",
        "    3     3     3    11\n",
        "    4     4     4   100\n",
        "    5     5     5   101\n",
        "    6     6     6   110\n",
        "    7     7     7   111\n",
        "    8    10     8  1000\n",
        "    9    11     9  1001\n",
        "   10    12     A  1010\n",
        "   11    13     B  1011\n",
        "   12    14     C  1100\n",
        "   13    15     D  1101\n",
        "   14    16     E  1110\n",
        "   15    17     F  1111\n",
        "   16    20    10 10000\n",
        "   17    21    11 10001\n",
        "```"
      ],
      "metadata": {
        "id": "Y_FLkRlujts9"
      }
    },
    {
      "cell_type": "code",
      "execution_count": null,
      "metadata": {
        "id": "wfwui8xajsfA"
      },
      "outputs": [],
      "source": [
        "def print_formatted(number):\n",
        "    # your code goes here\n",
        "    \n",
        "    for i in range(1, number+1):\n",
        "        pad = n.bit_length()\n",
        "        print(f'{i:{pad}d} {i:{pad}o} {i:{pad}X} {i:{pad}b}')\n",
        "\n",
        "if __name__ == '__main__':\n",
        "    n = int(input())\n",
        "    print_formatted(n)"
      ]
    }
  ]
}