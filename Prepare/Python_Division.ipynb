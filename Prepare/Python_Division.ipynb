{
  "nbformat": 4,
  "nbformat_minor": 0,
  "metadata": {
    "colab": {
      "name": "Python: Division.ipynb",
      "provenance": []
    },
    "kernelspec": {
      "name": "python3",
      "display_name": "Python 3"
    },
    "language_info": {
      "name": "python"
    }
  },
  "cells": [
    {
      "cell_type": "markdown",
      "source": [
        "# Python: Division\n",
        "\n",
        "**Task**\n",
        "\n",
        "The provided code stud reads two integers, a and b, from STDIN.\n",
        "\n",
        "Add logic to print two lines. The first line should contain the result of integer division, a//b. The second line should contain the result of float division, a / b.\n",
        "\n",
        "No rounding or formatting is necessary.\n",
        "\n",
        "**Example**\n",
        "\n",
        "a = 3\n",
        "\n",
        "b = 5\n",
        "\n",
        "* The result of the integer division 3//5 = 0.\n",
        "* The result of the float division is 3/5 = 0.6.\n",
        "\n",
        "Print:\n",
        "```\n",
        "0\n",
        "0.6\n",
        "```\n",
        "\n",
        "**Input Format**\n",
        "\n",
        "The first line contains the first integer, a.\n",
        "\n",
        "The second line contains the second integer, b.\n",
        "\n",
        "**Output Format**\n",
        "\n",
        "Print the two lines as described above.\n",
        "\n",
        "**Sample Input 0**\n",
        "\n",
        "```\n",
        "4\n",
        "3\n",
        "```\n",
        "\n",
        "**Sample Output 0**\n",
        "\n",
        "```\n",
        "1\n",
        "1.33333333333\n",
        "```"
      ],
      "metadata": {
        "id": "Nnqy-zUoI-1O"
      }
    },
    {
      "cell_type": "code",
      "execution_count": null,
      "metadata": {
        "id": "1NrDUA20I9AS"
      },
      "outputs": [],
      "source": [
        "if __name__ == '__main__':\n",
        "    a = int(input())\n",
        "    b = int(input())\n",
        "    \n",
        "    print(a // b)\n",
        "    print(a / b)"
      ]
    }
  ]
}