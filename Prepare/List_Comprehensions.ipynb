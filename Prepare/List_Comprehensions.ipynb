{
  "nbformat": 4,
  "nbformat_minor": 0,
  "metadata": {
    "colab": {
      "name": "List Comprehensions.ipynb",
      "provenance": []
    },
    "kernelspec": {
      "name": "python3",
      "display_name": "Python 3"
    },
    "language_info": {
      "name": "python"
    }
  },
  "cells": [
    {
      "cell_type": "markdown",
      "source": [
        "# List Comprehensions\n",
        "\n",
        "Let's learn about ist comprehensions! You are gien three integers $x, y$ and $z$ representing the dimensions of a cuboid along with an integer $n$. Print a list of all possible coordinates given by $(i, j, k)$ on a 3D grid where the sum of $i+j+k$ is not equal to $n$. Here, $0 \\leq i \\leq x; 0 \\leq j \\leq y; 0 \\leq k \\leq z$. Please use list comprehensions rather than multiple loops, as a learning exercise.\n",
        "\n",
        "**Example**\n",
        "\n",
        "$x = 1$\n",
        "\n",
        "$y = 1$\n",
        "\n",
        "$z = 2$\n",
        "\n",
        "$n = 3$\n",
        "\n",
        "All permutations of $[i, j, k]$ are:\n",
        "\n",
        "$[[0,0,0],[0,0,1],[0,0,2],[0,1,0],[0,1,1],[0,1,2],[1,0,0],[1,0,1],[1,0,2],[1,1,0],[1,1,1],[1,1,2]]$.\n",
        "\n",
        "Print an array of the elements toat do not sum to $n = 3$.\n",
        "\n",
        "$[[0,0,0],[0,0,1],[0,0,2],[0,1,0],[0,1,1],[1,0,0],[1,0,1],[1,1,0],[1,1,2]]$.\n",
        "\n",
        "**Input Format**\n",
        "\n",
        "Four integers $x,y,z$ and $n$, each on a separate line.\n",
        "\n",
        "**Constraints**\n",
        "\n",
        "Print the lis tin lexicographic increasing order.\n",
        "\n",
        "\n",
        "**Sample Input 0**\n",
        "\n",
        "```\n",
        "1\n",
        "1\n",
        "1\n",
        "2\n",
        "```\n",
        "\n",
        "\n",
        "**Sample Output 0**\n",
        "\n",
        "```\n",
        "[[0, 0, 0], [0, 0, 1], [0, 1, 0], [1, 0, 0], [1, 1, 1]]\n",
        "```\n",
        "\n",
        "**Explanation 0**\n",
        "\n",
        "Each variable $x,y$ and $z$ will have values of $0$ or $1$. All permutations of lists in the form\n",
        "\n",
        "$[i,j,k] = [[0, 0, 0], [0, 0, 1], [0, 1, 0], [0, 1, 1], [1, 0, 0], [1, 0, 1], [1, 1, 0], [1, 1, 1]]$.\n",
        "\n",
        "Remove all arrays that sum to $n = 2$ to leave only the valid permutations.\n",
        "\n",
        "**Sample Input 1**\n",
        "```\n",
        "2\n",
        "2\n",
        "2\n",
        "2\n",
        "```\n",
        "\n",
        "**Sample Output 1**\n",
        "\n",
        "```\n",
        "[[0, 0, 0], [0, 0, 1], [0, 1, 0], [0, 1, 2], [0, 2, 1], [0, 2, 2], [1, 0, 0], [1, 0, 2], [1, 1, 1], [1, 1, 2], [1, 2, 0], [1, 2, 1], [1, 2, 2], [2, 0, 1], [2, 0, 2], [2, 1, 0], [2, 1, 1], [2, 1, 2], [2, 2, 0], [2, 2, 1], [2, 2, 2]]\n",
        "```"
      ],
      "metadata": {
        "id": "Nnqy-zUoI-1O"
      }
    },
    {
      "cell_type": "code",
      "execution_count": null,
      "metadata": {
        "id": "1NrDUA20I9AS"
      },
      "outputs": [],
      "source": [
        "if __name__ == '__main__':\n",
        "    x = int(raw_input())\n",
        "    y = int(raw_input())\n",
        "    z = int(raw_input())\n",
        "    n = int(raw_input())\n",
        "    \n",
        "    print([[a, b, c] for a in range(0, x+1) for b in range(0, y+1) for c in range(0, z+1) if a + b + c != n])"
      ]
    }
  ]
}