{
  "nbformat": 4,
  "nbformat_minor": 0,
  "metadata": {
    "colab": {
      "name": "Tuples.ipynb",
      "provenance": []
    },
    "kernelspec": {
      "name": "python3",
      "display_name": "Python 3"
    },
    "language_info": {
      "name": "python"
    }
  },
  "cells": [
    {
      "cell_type": "markdown",
      "source": [
        "# Tuples\n",
        "\n",
        "Given an integer, $n$, and $n$ space-separated integers as input, create a tuple $t$, of those $n$ integers. Then compute and print the result of $hash(t)$.\n",
        "\n",
        "**Note**: hash() is one of the functions in the `__builtins__` module, so it need not be imported\n",
        "\n",
        "\n",
        "**Input Format**\n",
        "\n",
        "The first line contains an integer, $n$, denoting the number of elements in the tuple.\n",
        "\n",
        "The second line contains $n$ space-separated integers describing the elements in tuple $t$.\n",
        "\n",
        "\n",
        "**Output Format**\n",
        "\n",
        "Print the result of $hash(t)$.\n",
        "\n",
        "**Sample Input 0**\n",
        "\n",
        "```\n",
        "2\n",
        "1 2\n",
        "```\n",
        "\n",
        "\n",
        "**Sample Output 0**\n",
        "\n",
        "```\n",
        "3713081631934410656\n",
        "```"
      ],
      "metadata": {
        "id": "Nnqy-zUoI-1O"
      }
    },
    {
      "cell_type": "code",
      "execution_count": 9,
      "metadata": {
        "id": "1NrDUA20I9AS",
        "colab": {
          "base_uri": "https://localhost:8080/"
        },
        "outputId": "f7a5840f-3373-4554-859f-c70d7b12e61e"
      },
      "outputs": [
        {
          "output_type": "stream",
          "name": "stdout",
          "text": [
            "2\n",
            "1 2\n",
            "3713081631934410656\n"
          ]
        }
      ],
      "source": [
        "n = int(input())\n",
        "integer_list = map(int, input().split())\n",
        "\n",
        "t = tuple(integer_list)\n",
        "\n",
        "print(hash(t))"
      ]
    }
  ]
}