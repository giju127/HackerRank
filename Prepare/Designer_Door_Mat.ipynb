{
  "nbformat": 4,
  "nbformat_minor": 0,
  "metadata": {
    "colab": {
      "name": "Designer Door Mat.ipynb",
      "provenance": []
    },
    "kernelspec": {
      "name": "python3",
      "display_name": "Python 3"
    },
    "language_info": {
      "name": "python"
    }
  },
  "cells": [
    {
      "cell_type": "markdown",
      "source": [
        "# Designer Door Mat\n",
        "\n",
        "Mr. Vincent works in a door mat manufacturing company. One day, he designed a new door mat with the following specifications:\n",
        "* Mat size must be $N \\times M$. ($N$ is an odd natural number, and $M$ is $3$ times $N$.)\n",
        "* The design should have 'WELCOME' written in the center.\n",
        "* The design pattern should only use |, . and - characters.\n",
        "\n",
        "**Sample Designs**\n",
        "\n",
        "```\n",
        "    Size: 7 x 21 \n",
        "    ---------.|.---------\n",
        "    ------.|..|..|.------\n",
        "    ---.|..|..|..|..|.---\n",
        "    -------WELCOME-------\n",
        "    ---.|..|..|..|..|.---\n",
        "    ------.|..|..|.------\n",
        "    ---------.|.---------\n",
        "    \n",
        "    Size: 11 x 33\n",
        "    ---------------.|.---------------\n",
        "    ------------.|..|..|.------------\n",
        "    ---------.|..|..|..|..|.---------\n",
        "    ------.|..|..|..|..|..|..|.------\n",
        "    ---.|..|..|..|..|..|..|..|..|.---\n",
        "    -------------WELCOME-------------\n",
        "    ---.|..|..|..|..|..|..|..|..|.---\n",
        "    ------.|..|..|..|..|..|..|.------\n",
        "    ---------.|..|..|..|..|.---------\n",
        "    ------------.|..|..|.------------\n",
        "    ---------------.|.---------------\n",
        "```\n",
        "\n",
        "**Input Format**\n",
        "\n",
        "A single line containing the space separated values of $N$ and $M$.\n",
        "\n",
        "**Constraints**\n",
        "\n",
        "* $5 < N < 101$\n",
        "* $15 < M < 303$\n",
        "\n",
        "**Output Format**\n",
        "\n",
        "Output the design pattern.\n",
        "\n",
        "**Sample Input**\n",
        "\n",
        "```\n",
        "9 27\n",
        "```\n",
        "\n",
        "**Sample Output**\n",
        "\n",
        "```\n",
        "------------.|.------------\n",
        "---------.|..|..|.---------\n",
        "------.|..|..|..|..|.------\n",
        "---.|..|..|..|..|..|..|.---\n",
        "----------WELCOME----------\n",
        "---.|..|..|..|..|..|..|.---\n",
        "------.|..|..|..|..|.------\n",
        "---------.|..|..|.---------\n",
        "------------.|.------------\n",
        "```"
      ],
      "metadata": {
        "id": "Y_FLkRlujts9"
      }
    },
    {
      "cell_type": "code",
      "execution_count": null,
      "metadata": {
        "id": "wfwui8xajsfA"
      },
      "outputs": [],
      "source": [
        "# Enter your code here. Read input from STDIN. Print output to STDOUT\n",
        "\n",
        "n, m = map(int, input().split())\n",
        "pattern = [('.|.'*(2*i + 1)).center(m, '-') for i in range(n//2)]\n",
        "print('\\n'.join(pattern + ['WELCOME'.center(m, '-')] + pattern[::-1]))"
      ]
    }
  ]
}