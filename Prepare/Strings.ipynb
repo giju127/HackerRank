{
  "nbformat": 4,
  "nbformat_minor": 0,
  "metadata": {
    "colab": {
      "name": "Strings.ipynb",
      "provenance": []
    },
    "kernelspec": {
      "name": "python3",
      "display_name": "Python 3"
    },
    "language_info": {
      "name": "python"
    }
  },
  "cells": [
    {
      "cell_type": "markdown",
      "source": [
        "# Strings\n",
        "\n",
        "You are given a string $S$ and width $w$.\n",
        "\n",
        "Your task is to wrap the string into a paragraph of width $w$.\n",
        "\n",
        "**Function Description**\n",
        "\n",
        "Complete te wrap funciton in the editor below.\n",
        "\n",
        "wrap has the following parameters:\n",
        "* string string: a long string\n",
        "* int max_width: the width to wrap to\n",
        "\n",
        "**Returns**\n",
        "\n",
        "* string: a single string with newline characters ('\\n') where the breaks should be\n",
        "\n",
        "**Input Format**\n",
        "\n",
        "The first line contains a string, $string$.\n",
        "\n",
        "The second line contains the width, $max\\_width$.\n",
        "\n",
        "**Constraints**\n",
        "\n",
        "* $0 < len(string) < 1000$\n",
        "* $0 < max\\_width < len(string)$\n",
        "\n",
        "**Sample Input**\n",
        "\n",
        "```\n",
        "ABCDEFGHIJKLIMNOQRSTUVWXYZ\n",
        "4\n",
        "```\n",
        "\n",
        "**Sample Output***\n",
        "\n",
        "```\n",
        "ABCD\n",
        "EFGH\n",
        "IJKL\n",
        "IMNO\n",
        "QRST\n",
        "UVWX\n",
        "YZ\n",
        "```"
      ],
      "metadata": {
        "id": "Nnqy-zUoI-1O"
      }
    },
    {
      "cell_type": "code",
      "execution_count": null,
      "metadata": {
        "id": "1NrDUA20I9AS"
      },
      "outputs": [],
      "source": [
        "import textwrap\n",
        "\n",
        "def wrap(string, max_width):\n",
        "    \n",
        "    return \"\\n\".join([string[i : i+max_width] for i in range(0, len(string), max_width)])\n",
        "\n",
        "if __name__ == '__main__':\n",
        "    string, max_width = input(), int(input())\n",
        "    result = wrap(string, max_width)\n",
        "    print(result)"
      ]
    }
  ]
}