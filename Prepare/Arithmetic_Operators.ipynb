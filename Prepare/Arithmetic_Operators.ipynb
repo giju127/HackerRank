{
  "nbformat": 4,
  "nbformat_minor": 0,
  "metadata": {
    "colab": {
      "name": "Arithmetic Operators.ipynb",
      "provenance": []
    },
    "kernelspec": {
      "name": "python3",
      "display_name": "Python 3"
    },
    "language_info": {
      "name": "python"
    }
  },
  "cells": [
    {
      "cell_type": "markdown",
      "source": [
        "# Arithmetic Operators\n",
        "**Task**\n",
        "\n",
        "The provided code stub reads two integers from STDIN, $a$ and $b$. Add code to print three lines where:\n",
        "\n",
        "\n",
        "1.   The first line contains the sum of the two numbers.\n",
        "2.   The second line contains the difference of the two numbers (first - second)\n",
        "3. The third line contains the product of the two numbers.\n",
        "\n",
        "\n",
        "The third line contains the product of the two numbers.\n",
        "\n",
        "**Example**\n",
        "\n",
        "$a = 3$\n",
        "\n",
        "$b = 5$\n",
        "\n",
        "Print the following:\n",
        "```\n",
        "8\n",
        "-2\n",
        "15\n",
        "```\n",
        "\n",
        "**Input Format**\n",
        "\n",
        "The first line contains the first integer, $a$.\n",
        "\n",
        "The second line contains the second integer, $b$.\n",
        "\n",
        "**Constraints**\n",
        "\n",
        "$1 \\leq a \\leq 10^{10}$\n",
        "\n",
        "$1 \\leq a \\leq 10^{10}$\n",
        "\n",
        "**Output Format**\n",
        "\n",
        "Print the three lines as explained above.\n",
        "\n",
        "**Sample Input 0**\n",
        "\n",
        "```\n",
        "3\n",
        "2\n",
        "```\n",
        "\n",
        "***Sample Output 0***\n",
        "\n",
        "```\n",
        "5\n",
        "1\n",
        "6\n",
        "```\n",
        "\n",
        "**Explanation 0**\n",
        "\n",
        "$3 + 2 ⇒ 5$\n",
        "\n",
        "$3 - 2 ⇒ 1$\n",
        "\n",
        "$3 * 2 ⇒ 6$"
      ],
      "metadata": {
        "id": "Nnqy-zUoI-1O"
      }
    },
    {
      "cell_type": "code",
      "execution_count": null,
      "metadata": {
        "id": "1NrDUA20I9AS"
      },
      "outputs": [],
      "source": [
        "if __name__ == '__main__':\n",
        "    a = int(input())\n",
        "    b = int(input())\n",
        "    \n",
        "    print(a + b)\n",
        "    print(a - b)\n",
        "    print(a * b)"
      ]
    }
  ]
}
