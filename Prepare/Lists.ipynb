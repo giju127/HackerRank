{
  "nbformat": 4,
  "nbformat_minor": 0,
  "metadata": {
    "colab": {
      "name": "Lists.ipynb",
      "provenance": []
    },
    "kernelspec": {
      "name": "python3",
      "display_name": "Python 3"
    },
    "language_info": {
      "name": "python"
    }
  },
  "cells": [
    {
      "cell_type": "markdown",
      "source": [
        "# Lists\n",
        "\n",
        "Consider a list (`list = []`). You can perform the following commands:\n",
        "\n",
        "1. `insert i e`: insert integer $e$ at position $i$.\n",
        "2. `print`: Print the list.\n",
        "3. `remove e`: Delete the first occurrence of integer $e$.\n",
        "4. `append e`: Insert integer $e$ at the end of the list.\n",
        "5. `sort`: Sort the list.\n",
        "6. `pop`: Pop the last element from the list.\n",
        "7. `reverse`: Reverse the list.\n",
        "\n",
        "Iniitalize your list and read in the value of $n$ followed by $n$ lines of commands where each command will be of the $7$ types listed above. Iterate through each command in order and perform the corresponding operation on your list.\n",
        "\n",
        "**Example**\n",
        "\n",
        "$N = 4$\n",
        "\n",
        "$append \\ 1$\n",
        "\n",
        "$append \\ 2$\n",
        "\n",
        "$insert \\ 3 \\ 1$\n",
        "\n",
        "$print$\n",
        "\n",
        "* $append \\ 1$: Append $1$ to the list, $arr = [1]$.\n",
        "* $append \\ 2$ Append $2$ to the list, $arr = [1, 2]$.\n",
        "* $insert \\ 3 \\ 1$: Insert $3$ at index $1$, $arr = [1, 3, 2]$\n",
        "* $print$: Print the array\n",
        "\n",
        "Output:\n",
        "```\n",
        "[1, 3, 2]\n",
        "```\n",
        "\n",
        "**Input Format**\n",
        "\n",
        "The first line contains an integer, $n$, denoting the number of commands.\n",
        "\n",
        "Each line $i$ of the $n$ subsequent lines contains one of the commands described above.\n",
        "\n",
        "**Constraints**\n",
        "\n",
        "* The elements added to the list must be integers.\n",
        "\n",
        "**Output Format**\n",
        "\n",
        "For each command of type `print`, print the list on a new line.\n",
        "\n",
        "**Sample Input 0**\n",
        "\n",
        "```\n",
        "12\n",
        "insert 0 5\n",
        "insert 1 10\n",
        "insert 0 6\n",
        "print\n",
        "remove 6\n",
        "append 9\n",
        "append 1\n",
        "sort\n",
        "print\n",
        "pop\n",
        "reverse\n",
        "print\n",
        "```\n",
        "\n",
        "**Sample Output 0**\n",
        "\n",
        "```\n",
        "[6, 5, 10]\n",
        "[1, 5, 9, 10]\n",
        "[9, 5, 1]\n",
        "```"
      ],
      "metadata": {
        "id": "Y_FLkRlujts9"
      }
    },
    {
      "cell_type": "code",
      "execution_count": null,
      "metadata": {
        "id": "wfwui8xajsfA"
      },
      "outputs": [],
      "source": [
        "if __name__ == '__main__':\n",
        "    N = int(input())\n",
        "    \n",
        "    l = []\n",
        "    \n",
        "    for _ in range(N):\n",
        "        s = input().split()\n",
        "        \n",
        "        cmd = s[0]\n",
        "        args = s[1:]\n",
        "        \n",
        "        if cmd != \"print\":\n",
        "            cmd += \"(\"+ \",\".join(args) +\")\"\n",
        "            eval(\"l.\" + cmd)\n",
        "        \n",
        "        else:\n",
        "            print(l)"
      ]
    }
  ]
}