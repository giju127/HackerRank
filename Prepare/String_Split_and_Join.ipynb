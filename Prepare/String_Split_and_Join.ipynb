{
  "nbformat": 4,
  "nbformat_minor": 0,
  "metadata": {
    "colab": {
      "name": "String Split and Join.ipynb",
      "provenance": []
    },
    "kernelspec": {
      "name": "python3",
      "display_name": "Python 3"
    },
    "language_info": {
      "name": "python"
    }
  },
  "cells": [
    {
      "cell_type": "markdown",
      "source": [
        "# String Split and Join\n",
        "\n",
        "In Python, a string can be split on a delimiter.\n",
        "\n",
        "**Example:**\n",
        "\n",
        "```\n",
        ">>> a = \"this is a string\"\n",
        ">>> a = a.split(\" \") # a is converted to a list of strings. \n",
        ">>> print a\n",
        "['this', 'is', 'a', 'string']\n",
        "```\n",
        "\n",
        "**Task**\n",
        "\n",
        "You are given a string. Split the string on a \" \" (space) delimiter and join using a - hyphen.\n",
        "\n",
        "**Function Description**\n",
        "Complete the split_and_join funciton in editor below.\n",
        "split_and_join has the following parameters:\n",
        "* string line: a string of space-separated words\n",
        "\n",
        "**Returns**\n",
        "* stirng: the resulting string\n",
        "\n",
        "**Input Format**\n",
        "\n",
        "The one line contains a string consisting of space separated words.\n",
        "\n",
        "**Sample Input 0**\n",
        "\n",
        "```\n",
        "this is a string\n",
        "```\n",
        "\n",
        "**Sample Output 0**\n",
        "\n",
        "```\n",
        "this-is-a-string\n",
        "```"
      ],
      "metadata": {
        "id": "Y_FLkRlujts9"
      }
    },
    {
      "cell_type": "code",
      "execution_count": null,
      "metadata": {
        "id": "wfwui8xajsfA"
      },
      "outputs": [],
      "source": [
        "def split_and_join(line):\n",
        "    line = line.split(\" \")\n",
        "    line = '-'.join(line)\n",
        "    return line\n",
        "\n",
        "if __name__ == '__main__':\n",
        "    line = input()\n",
        "    result = split_and_join(line)\n",
        "    print(result)"
      ]
    }
  ]
}