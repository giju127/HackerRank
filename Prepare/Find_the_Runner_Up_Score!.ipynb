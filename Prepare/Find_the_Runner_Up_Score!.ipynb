{
  "nbformat": 4,
  "nbformat_minor": 0,
  "metadata": {
    "colab": {
      "name": "Find the Runner-Up Score!.ipynb",
      "provenance": []
    },
    "kernelspec": {
      "name": "python3",
      "display_name": "Python 3"
    },
    "language_info": {
      "name": "python"
    }
  },
  "cells": [
    {
      "cell_type": "markdown",
      "source": [
        "# Find the Runner-Up Score!\n",
        "\n",
        "Given the participants' score sheet for your University Sports Day, you are required to find the runner-up score. You are given $n$ scores. Store them in a list and find the score of the runner-up.\n",
        "\n",
        "\n",
        "**Input Format**\n",
        "\n",
        "The first line contains $n$. The second line contains ans array $A[]$ of $n$ integers each separated by a space.\n",
        "\n",
        "**Constraints**\n",
        "\n",
        "* $2 \\leq n \\leq 10$\n",
        "* $-100 \\leq A[i] \\leq 100$\n",
        "\n",
        "**Output Format**\n",
        "\n",
        "Print the runner-up score.\n",
        "\n",
        "**Sample Input 0**\n",
        "\n",
        "```\n",
        "5\n",
        "2 3 6 6 5\n",
        "```\n",
        "\n",
        "\n",
        "**Sample Output 0**\n",
        "\n",
        "```\n",
        "5\n",
        "```\n",
        "\n",
        "**Explanation 0**\n",
        "\n",
        "Given the list is [2, 3, 6, 6, 5]. The maximum score is $6$, second maximum is $5$. Hence, we print $5$ as the runner-up score."
      ],
      "metadata": {
        "id": "Nnqy-zUoI-1O"
      }
    },
    {
      "cell_type": "code",
      "execution_count": null,
      "metadata": {
        "id": "1NrDUA20I9AS"
      },
      "outputs": [],
      "source": [
        "n = int(input())\n",
        "arr = map(int, input().split())\n",
        "\n",
        "score_list = list(arr)\n",
        "maximum = max(score_list)\n",
        "\n",
        "while maximum in score_list:\n",
        "  score_list.remove(maximum)\n",
        "\n",
        "print(max(score_list))"
      ]
    },
    {
      "cell_type": "code",
      "source": [
        ""
      ],
      "metadata": {
        "id": "71HKUGIi-0lm"
      },
      "execution_count": null,
      "outputs": []
    }
  ]
}