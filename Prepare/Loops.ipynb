{
  "nbformat": 4,
  "nbformat_minor": 0,
  "metadata": {
    "colab": {
      "name": "Loops.ipynb",
      "provenance": []
    },
    "kernelspec": {
      "name": "python3",
      "display_name": "Python 3"
    },
    "language_info": {
      "name": "python"
    }
  },
  "cells": [
    {
      "cell_type": "markdown",
      "source": [
        "**Task**\n",
        "\n",
        "The provided code stud reads and integer, $n$, from STDIN. For all non-negative integers $i < n$, print $i^2$.\n",
        "\n",
        "\n",
        "**Example**\n",
        "\n",
        "$n = 3$\n",
        "\n",
        "The list of non-negative that are less than $n = 3$ is $[0, 1, 2]$. Print the square of each number on a separate line.\n",
        "\n",
        "```\n",
        "0\n",
        "1\n",
        "4\n",
        "```\n",
        "\n",
        "**Input Format**\n",
        "\n",
        "The first and only line contains the integer, $n$.\n",
        "\n",
        "**Constraints**\n",
        "\n",
        "$1 \\leq n \\leq 20$\n",
        "\n",
        "**Output Format**\n",
        "\n",
        "Print $n$ lines, one corresponding to each $i$.\n",
        "\n",
        "**Sample Input 0**\n",
        "\n",
        "```\n",
        "5\n",
        "```\n",
        "\n",
        "**Sample Output 0**\n",
        "\n",
        "```\n",
        "0\n",
        "1\n",
        "4\n",
        "9\n",
        "16\n",
        "```"
      ],
      "metadata": {
        "id": "Nnqy-zUoI-1O"
      }
    },
    {
      "cell_type": "code",
      "execution_count": null,
      "metadata": {
        "id": "1NrDUA20I9AS"
      },
      "outputs": [],
      "source": [
        "if __name__ == '__main__':\n",
        "    n = int(input())\n",
        "    \n",
        "    for i in range(n):\n",
        "        print(i**2)"
      ]
    }
  ]
}
