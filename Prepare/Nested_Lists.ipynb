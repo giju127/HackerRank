{
  "nbformat": 4,
  "nbformat_minor": 0,
  "metadata": {
    "colab": {
      "name": "Nested Lists.ipynb",
      "provenance": []
    },
    "kernelspec": {
      "name": "python3",
      "display_name": "Python 3"
    },
    "language_info": {
      "name": "python"
    }
  },
  "cells": [
    {
      "cell_type": "markdown",
      "source": [
        "# Nested Lists\n",
        "\n",
        "Given the names and grades for each student in a class of $N$ students, store them in a nested list and print the name(s) of any student(s) having the second lowest grade.\n",
        "\n",
        "**Note**: If there are multiple students with the second lowest grade, order their names alphabetically and print each name on a new line.\n",
        "\n",
        "**Example**\n",
        "\n",
        "$records = [[\"chi\", 20.0], [\"beta\", 50.0], [\"alpha\", 50.0]]$\n",
        "The ordered list of scores is $[20.0,50.0]$, so the second lowest score is $50.0$. There are two students with that score: $[\"beta\", \"alpha\"]$. Ordered alphabetically, the names are printed as:\n",
        "\n",
        "```\n",
        "alpha\n",
        "beta\n",
        "```\n",
        "\n",
        "**Input Format**\n",
        "\n",
        "The first line contains an integer, $N$, the number of students.\n",
        "\n",
        "The $2N$ subsequent lines describe each student over $2$ lines.\n",
        "\n",
        "- The first line contains a student's name.\n",
        "- The second line contains their grade.\n",
        "\n",
        "**Constraints**\n",
        "\n",
        "* $2 \\leq n \\leq 5$\n",
        "* There will always be one or more students having the second lowest grade.\n",
        "\n",
        "**Output Format**\n",
        "\n",
        "Print the name(s) of any student(s) having the second lowest grade in. If there are multiple students, order their names alphabetically and print each one on a new line.\n",
        "\n",
        "**Sample Input 0**\n",
        "\n",
        "```\n",
        "5\n",
        "Harry\n",
        "37.21\n",
        "Berry\n",
        "37.21\n",
        "Tina\n",
        "37.2\n",
        "Akriti\n",
        "41\n",
        "Harsh\n",
        "39\n",
        "```\n",
        "\n",
        "\n",
        "**Sample Output 0**\n",
        "\n",
        "```\n",
        "Berry\n",
        "Harry\n",
        "```\n",
        "\n",
        "**Explanation 0**\n",
        "\n",
        "There are $5$ sstudents in this class whose names and grades are assembled to build the following list:\n",
        "```\n",
        "python students = [['Harry', 37.21], ['Berry', 37.21], ['Tina', 37.2], ['Akriti', 41], ['Harsh', 39]]\n",
        "```\n",
        "\n",
        "The lowest grade of $37.2$ belongs to Tina. The second lowest grade of $37.21$ belongs to both Harry and Berry, so we order their names alphabetically and print each name on a new line."
      ],
      "metadata": {
        "id": "Nnqy-zUoI-1O"
      }
    },
    {
      "cell_type": "code",
      "execution_count": 3,
      "metadata": {
        "id": "1NrDUA20I9AS",
        "colab": {
          "base_uri": "https://localhost:8080/"
        },
        "outputId": "9daeedcf-86dd-49fa-d50f-88961e9d0f66"
      },
      "outputs": [
        {
          "output_type": "stream",
          "name": "stdout",
          "text": [
            "5\n",
            "Harry\n",
            "37.21\n",
            "Berry\n",
            "37.21\n",
            "Tina\n",
            "37.2\n",
            "Akriti\n",
            "41\n",
            "Harsh\n",
            "39\n",
            "Berry\n",
            "Harry\n"
          ]
        }
      ],
      "source": [
        "students = []\n",
        "scores = set()\n",
        "second_names = []\n",
        "\n",
        "for _ in range(int(input())):\n",
        "  name = input()\n",
        "  score = float(input())\n",
        "  students.append([name, score])\n",
        "  scores.add(score)\n",
        "\n",
        "second_lowest = sorted(scores)[1]\n",
        "\n",
        "for name, score in students:\n",
        "  if score == second_lowest:\n",
        "    second_names.append(name)\n",
        "\n",
        "for name in sorted(second_names):\n",
        "  print(name, end='\\n')"
      ]
    },
    {
      "cell_type": "code",
      "source": [
        ""
      ],
      "metadata": {
        "id": "71HKUGIi-0lm"
      },
      "execution_count": null,
      "outputs": []
    }
  ]
}