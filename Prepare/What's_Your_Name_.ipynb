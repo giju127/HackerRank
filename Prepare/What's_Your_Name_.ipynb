{
  "nbformat": 4,
  "nbformat_minor": 0,
  "metadata": {
    "colab": {
      "name": "What's Your Name?.ipynb",
      "provenance": []
    },
    "kernelspec": {
      "name": "python3",
      "display_name": "Python 3"
    },
    "language_info": {
      "name": "python"
    }
  },
  "cells": [
    {
      "cell_type": "markdown",
      "source": [
        "# What's Your Name?\n",
        "\n",
        "You are given the firstname and lastname of a person on two different lines. Your task is to read them and pring the following:\n",
        "```\n",
        "Hello firstname lastname! You just delved into python.\n",
        "```\n",
        "\n",
        "**Function Descritption**\n",
        "\n",
        "Complete the print_full_name function in the editor below.\n",
        "\n",
        "print_full_name has the following parameters:\n",
        "* string first: the first name\n",
        "* string last: the last name\n",
        "\n",
        "**Prints**\n",
        "\n",
        "* string: 'Hello $firstname$ $lastname$! You just delved into python' where $firstname$ and $lastname$ are replaced with $first$ and $last$.\n",
        "\n",
        "**Input Format**\n",
        "\n",
        "The one line contains a string consisting of space separated words.\n",
        "\n",
        "**Constraints**\n",
        "The length of the first and last names are each $\\leq 10$.\n",
        "\n",
        "**Sample Input 0**\n",
        "\n",
        "```\n",
        "Ross\n",
        "Taylor\n",
        "```\n",
        "\n",
        "**Sample Output 0**\n",
        "\n",
        "```\n",
        "Hello Ross Taylor! You just delved into python.\n",
        "```\n",
        "\n",
        "**Explanation 0**\n",
        "\n",
        "The input read by the program is stored as a string data type. As string is a collection of characters."
      ],
      "metadata": {
        "id": "Y_FLkRlujts9"
      }
    },
    {
      "cell_type": "code",
      "execution_count": null,
      "metadata": {
        "id": "wfwui8xajsfA"
      },
      "outputs": [],
      "source": [
        "#\n",
        "# Complete the 'print_full_name' function below.\n",
        "#\n",
        "# The function is expected to return a STRING.\n",
        "# The function accepts following parameters:\n",
        "#  1. STRING first\n",
        "#  2. STRING last\n",
        "#\n",
        "\n",
        "def print_full_name(first, last):\n",
        "    print(\"Hello {} {}! You just delved into python.\".format(first, last))\n",
        "    \n",
        "if __name__ == '__main__':\n",
        "    first_name = input()\n",
        "    last_name = input()\n",
        "    print_full_name(first_name, last_name)"
      ]
    }
  ]
}