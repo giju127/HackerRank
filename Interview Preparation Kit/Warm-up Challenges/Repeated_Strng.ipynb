{
  "nbformat": 4,
  "nbformat_minor": 0,
  "metadata": {
    "colab": {
      "provenance": []
    },
    "kernelspec": {
      "name": "python3",
      "display_name": "Python 3"
    },
    "language_info": {
      "name": "python"
    }
  },
  "cells": [
    {
      "cell_type": "code",
      "source": [
        "#!/bin/python3\n",
        "\n",
        "import math\n",
        "import os\n",
        "import random\n",
        "import re\n",
        "import sys\n",
        "\n",
        "#\n",
        "# Complete the 'repeatedString' function below.\n",
        "#\n",
        "# The function is expected to return a LONG_INTEGER.\n",
        "# The function accepts following parameters:\n",
        "#  1. STRING s\n",
        "#  2. LONG_INTEGER n\n",
        "#\n",
        "\n",
        "def repeatedString(s, n):\n",
        "    # Write your code here\n",
        "    loop = n // len(s)\n",
        "    res = n - loop * len(s)\n",
        "    \n",
        "    num = s.count('a')\n",
        "    num = num * loop\n",
        "    num += s[:res].count('a')\n",
        "    \n",
        "    return num\n",
        "\n",
        "if __name__ == '__main__':\n",
        "    fptr = open(os.environ['OUTPUT_PATH'], 'w')\n",
        "\n",
        "    s = input()\n",
        "\n",
        "    n = int(input().strip())\n",
        "\n",
        "    result = repeatedString(s, n)\n",
        "\n",
        "    fptr.write(str(result) + '\\n')\n",
        "\n",
        "    fptr.close()\n"
      ],
      "metadata": {
        "id": "ON5YZLeXbB5X"
      },
      "execution_count": null,
      "outputs": []
    }
  ]
}