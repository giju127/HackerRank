{
  "nbformat": 4,
  "nbformat_minor": 0,
  "metadata": {
    "colab": {
      "name": "[]_Counting Valleys.ipynb",
      "provenance": []
    },
    "kernelspec": {
      "name": "python3",
      "display_name": "Python 3"
    },
    "language_info": {
      "name": "python"
    }
  },
  "cells": [
    {
      "cell_type": "markdown",
      "source": [
        "# Counting Valleys\n",
        "\n",
        "An avid hiker keeps meticulous records of their hikes. During the last hike that took exactly $steps$ steps, for every step it was noted if it was an uphill, $U$, or a downhill, $D$ step. Hikes always start and end at sea level, and each step up or down represents a $1$ unit change in altitude. We define the following terms:\n",
        "* A mountain is a sequence of consecutive steps above sea level, starting with a step up from sea level and ending with a step down to sea level.\n",
        "* A valley is a sequence of consecutive steps below sea level, starting with a step down from sea level and ending with a step up to sea level.\n",
        "Given the sequence of up and down steps during a hike, find and print the number of valleys walked through.\n",
        "\n",
        "\n",
        "**Example**\n",
        "\n",
        "$steps = 8 \\ path = [DDUUUUDD]$\n",
        "\n",
        "The hiker first enters a valley $2$ units deep. Then they climb out and up onto a mountain $2$ units high. Finally, the hiker returns to sea level and ends the hike. \n",
        "\n",
        "\n",
        "**Function Description**\n",
        "\n",
        "Complete the countingValleys function in the editor below.\n",
        "\n",
        "countingValleys has the following parameter(s):\n",
        "* int steps: the number of steps on the hike\n",
        "* string path: a string describing the path\n",
        "\n",
        "\n",
        "**Returns**\n",
        "\n",
        "* int: the number of valleys traversed\n",
        "\n",
        "\n",
        "**Input Format**\n",
        "\n",
        "The first line contains an integer $steps$, te number of steps in the hike.\n",
        "\n",
        "The second line contains a single string $path$, of $steps$ characters that describe the path.\n",
        "\n",
        "\n",
        "**Constraints**\n",
        "\n",
        "* $2 \\leq steps \\leq 10^6$\n",
        "* $path[i] \\in \\{ UD \\}$\n",
        "\n",
        "\n",
        "**Sample Input**\n",
        "```\n",
        "8\n",
        "UDDDUDUU\n",
        "```\n",
        "\n",
        "\n",
        "**Sample Output**\n",
        "```\n",
        "1\n",
        "```\n",
        "\n",
        "\n",
        "**Explanation**\n",
        "\n",
        "If we rerpesent _ as sea level, a step up as /, and a step down as \\\\, the hike ccan be drawn as:\n",
        "```\n",
        "_/\\      _\n",
        "   \\    /\n",
        "    \\/\\/\n",
        "```\n",
        "The hiker enters and leaves one valley."
      ],
      "metadata": {
        "id": "zlPSulT1ID_N"
      }
    },
    {
      "cell_type": "code",
      "source": [
        "#!/bin/python3\n",
        "\n",
        "import math\n",
        "import os\n",
        "import random\n",
        "import re\n",
        "import sys\n",
        "\n",
        "#\n",
        "# Complete the 'countingValleys' function below.\n",
        "#\n",
        "# The function is expected to return an INTEGER.\n",
        "# The function accepts following parameters:\n",
        "#  1. INTEGER steps\n",
        "#  2. STRING path\n",
        "#\n",
        "\n",
        "def countingValleys(steps, path):\n",
        "    # Write your code here\n",
        "    \n",
        "    count = 0\n",
        "    alt = 0\n",
        "    \n",
        "    for i in path:\n",
        "        if i == 'U':\n",
        "            alt += 1\n",
        "            if alt == 0:\n",
        "                count += 1\n",
        "        elif i == 'D':\n",
        "            alt -= 1\n",
        "    \n",
        "    return(count)\n",
        "    \n",
        "\n",
        "if __name__ == '__main__':\n",
        "    fptr = open(os.environ['OUTPUT_PATH'], 'w')\n",
        "\n",
        "    steps = int(input().strip())\n",
        "\n",
        "    path = input()\n",
        "\n",
        "    result = countingValleys(steps, path)\n",
        "\n",
        "    fptr.write(str(result) + '\\n')\n",
        "\n",
        "    fptr.close()"
      ],
      "metadata": {
        "id": "tjaJaxHpMFL1"
      },
      "execution_count": null,
      "outputs": []
    },
    {
      "cell_type": "markdown",
      "source": [
        "### Explanation\n",
        "\n",
        "* When it is an uphill, altitude is increased by 1. However, when altitude is approaching to 0, it means that the prior steps were below sea level, meaning an valley.\n",
        "* When it is a downhill, altitude is decreased by 1."
      ],
      "metadata": {
        "id": "PkKcl4sFP3i_"
      }
    },
    {
      "cell_type": "code",
      "source": [
        ""
      ],
      "metadata": {
        "id": "FvWho3VsQXiC"
      },
      "execution_count": null,
      "outputs": []
    }
  ]
}